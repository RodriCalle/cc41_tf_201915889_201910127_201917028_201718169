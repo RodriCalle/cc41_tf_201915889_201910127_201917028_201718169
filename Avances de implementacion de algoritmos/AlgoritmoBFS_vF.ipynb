{
  "nbformat": 4,
  "nbformat_minor": 0,
  "metadata": {
    "colab": {
      "name": "AlgoritmoBFS_v1.ipynb",
      "provenance": []
    },
    "kernelspec": {
      "name": "python3",
      "display_name": "Python 3"
    },
    "language_info": {
      "name": "python"
    }
  },
  "cells": [
    {
      "cell_type": "markdown",
      "metadata": {
        "id": "LDDvZ5Zwwgrq"
      },
      "source": [
        "#BFS version final\n"
      ]
    },
    {
      "cell_type": "markdown",
      "metadata": {
        "id": "CmK_G7qK25Hf"
      },
      "source": [
        "#Sectores"
      ]
    },
    {
      "cell_type": "code",
      "metadata": {
        "id": "zgElq-T02dJF"
      },
      "source": [
        "def getParameters(number):\n",
        "    qPerPerson = len(index_almacenes)/4\n",
        "    start = qPerPerson*number\n",
        "    end = start + qPerPerson\n",
        "    return start, end"
      ],
      "execution_count": null,
      "outputs": []
    },
    {
      "cell_type": "markdown",
      "metadata": {
        "id": "HgwUvSA_20R7"
      },
      "source": [
        "#BFS algorithm"
      ]
    },
    {
      "cell_type": "code",
      "metadata": {
        "id": "BGY_iJqAueZr"
      },
      "source": [
        "def bfs(G, s):                #(graph, vertex origin call s)\n",
        "  visited = {}\n",
        "  path = {}\n",
        "  for key in G.keys():\n",
        "    visited[key] = False\n",
        "    path[key] = None\n",
        "  queue = [s]\n",
        "  visited[s] = True\n",
        "\n",
        "  while queue:                #while queue is higher than 0\n",
        "    u = queue.pop(0)                #popleft() -> delete 1st element of list       \n",
        "    for v in G[u]:            #v is  neighbor of  u\n",
        "      if not visited[v]:\n",
        "        visited [v] = True\n",
        "        path[v] = u           #parent v to u\n",
        "        queue.append(v)\n",
        "        \n",
        "  return path"
      ],
      "execution_count": 1,
      "outputs": []
    },
    {
      "cell_type": "markdown",
      "metadata": {
        "id": "n6gjUpv72rsz"
      },
      "source": [
        "#in use "
      ]
    },
    {
      "cell_type": "code",
      "metadata": {
        "colab": {
          "base_uri": "https://localhost:8080/",
          "height": 235
        },
        "id": "JeE4DyTw1mRX",
        "outputId": "5ce88a38-2e12-46a5-d73a-4b64e0dec0e9"
      },
      "source": [
        "start, end = getParameters(3)\n",
        "print(\"Almacen de inicio:\",start)\n",
        "print(\"Almacen de fin:\",end)\n",
        "\n",
        "for index, P_alm in enumerate(P_almacen):\n",
        "    if index <= inicio or index > fin: continue\n",
        "    adjList = create_adjacency_list(dict_P_almacen[P_alm], P_alm)\n",
        "    path = bfs(adjList, P_alm) #usandoBFS\n",
        "    arrPaths = []\n",
        "    for p_e in dict_P_almacen[P_alm]:\n",
        "      arrPaths.append(WayToPoint(path, p_e, P_alm))\n",
        "    print(f\"Almacen {index} ({P_alm}) : {arrPaths}\")"
      ],
      "execution_count": 3,
      "outputs": [
        {
          "output_type": "error",
          "ename": "NameError",
          "evalue": "ignored",
          "traceback": [
            "\u001b[0;31m---------------------------------------------------------------------------\u001b[0m",
            "\u001b[0;31mNameError\u001b[0m                                 Traceback (most recent call last)",
            "\u001b[0;32m<ipython-input-3-1a21c14dd1d1>\u001b[0m in \u001b[0;36m<module>\u001b[0;34m()\u001b[0m\n\u001b[0;32m----> 1\u001b[0;31m \u001b[0mstart\u001b[0m\u001b[0;34m,\u001b[0m \u001b[0mend\u001b[0m \u001b[0;34m=\u001b[0m \u001b[0mgetParameters\u001b[0m\u001b[0;34m(\u001b[0m\u001b[0;36m3\u001b[0m\u001b[0;34m)\u001b[0m\u001b[0;34m\u001b[0m\u001b[0;34m\u001b[0m\u001b[0m\n\u001b[0m\u001b[1;32m      2\u001b[0m \u001b[0mprint\u001b[0m\u001b[0;34m(\u001b[0m\u001b[0;34m\"Almacen de inicio:\"\u001b[0m\u001b[0;34m,\u001b[0m\u001b[0mstart\u001b[0m\u001b[0;34m)\u001b[0m\u001b[0;34m\u001b[0m\u001b[0;34m\u001b[0m\u001b[0m\n\u001b[1;32m      3\u001b[0m \u001b[0mprint\u001b[0m\u001b[0;34m(\u001b[0m\u001b[0;34m\"Almacen de fin:\"\u001b[0m\u001b[0;34m,\u001b[0m\u001b[0mend\u001b[0m\u001b[0;34m)\u001b[0m\u001b[0;34m\u001b[0m\u001b[0;34m\u001b[0m\u001b[0m\n\u001b[1;32m      4\u001b[0m \u001b[0;34m\u001b[0m\u001b[0m\n\u001b[1;32m      5\u001b[0m \u001b[0;32mfor\u001b[0m \u001b[0mindex\u001b[0m\u001b[0;34m,\u001b[0m \u001b[0mP_alm\u001b[0m \u001b[0;32min\u001b[0m \u001b[0menumerate\u001b[0m\u001b[0;34m(\u001b[0m\u001b[0mP_almacen\u001b[0m\u001b[0;34m)\u001b[0m\u001b[0;34m:\u001b[0m\u001b[0;34m\u001b[0m\u001b[0;34m\u001b[0m\u001b[0m\n",
            "\u001b[0;31mNameError\u001b[0m: name 'getParameters' is not defined"
          ]
        }
      ]
    }
  ]
}