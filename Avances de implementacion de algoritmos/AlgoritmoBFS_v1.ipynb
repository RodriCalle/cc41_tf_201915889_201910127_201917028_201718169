{
  "nbformat": 4,
  "nbformat_minor": 0,
  "metadata": {
    "colab": {
      "name": "AlgoritmoBFS_v1.ipynb",
      "provenance": []
    },
    "kernelspec": {
      "name": "python3",
      "display_name": "Python 3"
    },
    "language_info": {
      "name": "python"
    }
  },
  "cells": [
    {
      "cell_type": "markdown",
      "metadata": {
        "id": "LDDvZ5Zwwgrq"
      },
      "source": [
        "#BFS version 1.0"
      ]
    },
    {
      "cell_type": "code",
      "metadata": {
        "id": "BGY_iJqAueZr"
      },
      "source": [
        "def bfs(G, s):                #(graph, vertex origin call s)\n",
        "  visited = {}\n",
        "  path = {}\n",
        "  for key in G.keys():\n",
        "    visited[key] = False\n",
        "    path[key] = None\n",
        "\n",
        "  queue = [s]\n",
        "  visited[s] = True\n",
        "\n",
        "  while queue:                #while queue is higher than 0\n",
        "    u = queue.pop(0)                #popleft() -> delete 1st element of list       \n",
        "    for v in G[u]:            #v is  neighbor of  u\n",
        "      \n",
        "  return path"
      ],
      "execution_count": null,
      "outputs": []
    },
    {
      "cell_type": "markdown",
      "metadata": {
        "id": "Lgbo5GJSwyK-"
      },
      "source": [
        "\n",
        "#Falta\n",
        "completar una condicional para saber si v no esta visitado\n",
        "\n",
        "\n"
        
      ]
    }
  ]
}
