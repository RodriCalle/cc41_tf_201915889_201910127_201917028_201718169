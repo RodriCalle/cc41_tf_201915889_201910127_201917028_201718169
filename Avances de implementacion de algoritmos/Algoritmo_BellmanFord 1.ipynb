{
 "cells": [
  {
   "cell_type": "code",
   "execution_count": null,
   "metadata": {},
   "outputs": [],
   "source": [
    "def bellmanFord(G, s):\n",
    "      n = len(G)\n",
    "  cost = [float('inf')]*n\n",
    "  cost[s]=0\n",
    "  path = [-1]*n\n",
    "\n",
    "  #relax\n",
    "  for _ in range(n-1):\n",
    "    for u in range(n):\n",
    "      for v, w in G[u]:\n",
    "        if cost[u] + w < cost[v]:\n",
    "          cost[v] = cost[u]+w\n",
    "          path[v]=u\n",
    "  \n",
    "  #check negative cygroupse\n",
    "  for u in range(n):\n",
    "    for v, w in G[u]:\n",
    "      if cost[u]+w<cost[v]:\n",
    "        return None, None\n",
    "\n",
    "  return path, cost"
   ]
  }
 ],
 "metadata": {
  "language_info": {
   "name": "python"
  },
  "orig_nbformat": 4
 },
 "nbformat": 4,
 "nbformat_minor": 2
}
