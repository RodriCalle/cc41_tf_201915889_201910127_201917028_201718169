{
 "cells": [
  {
   "cell_type": "code",
   "execution_count": null,
   "metadata": {},
   "outputs": [],
   "source": [
    "def fellmanBord(cluster, origin):\n",
    "      cluster.insert(0,origin)\n",
    "  n = len(cluster)\n",
    "  cost = [float('inf')]*n\n",
    "  cost[0]=0\n",
    "  path = [-1]*n\n",
    "\n",
    "  for _ in range(n-1):\n",
    "    for node in range(n):\n",
    "      for eachother in range(n):\n",
    "        if eachother == node: continue\n",
    "        if cost[node] + manhattan(cluster[eachother], cluster[node]) < cost[eachother]:\n",
    "          cost[eachother] = cost[node] + manhattan(cluster[eachother], cluster[node])\n",
    "          path[eachother]=cluster[node]\n",
    "  \n",
    "  for node in range(n):\n",
    "    for eachother in range(n):\n",
    "      if cost[eachother]+manhattan(cluster[eachother], cluster[node]) < cost[eachother]:\n",
    "        return None\n",
    "\n",
    "  return path"
   ]
  }
 ],
 "metadata": {
  "interpreter": {
   "hash": "99af2947221ff583ea72c1dc43137dca5d1efbf29444e6833a82e2fc899e3211"
  },
  "kernelspec": {
   "display_name": "Python 3.10.0 64-bit",
   "language": "python",
   "name": "python3"
  },
  "language_info": {
   "name": "python",
   "version": "3.10.0"
  },
  "orig_nbformat": 4
 },
 "nbformat": 4,
 "nbformat_minor": 2
}
