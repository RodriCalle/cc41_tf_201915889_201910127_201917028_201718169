{
  "nbformat": 4,
  "nbformat_minor": 0,
  "metadata": {
    "colab": {
      "name": "Untitled9.ipynb",
      "provenance": [],
      "collapsed_sections": []
    },
    "kernelspec": {
      "display_name": "Python 3",
      "name": "python3"
    },
    "language_info": {
      "name": "python"
    }
  },
  "cells": [
    {
      "cell_type": "code",
      "metadata": {
        "id": "cPg2snbAAejo"
      },
      "source": [
        "import pandas as pd\n",
        "import numpy as np\n",
        "import matplotlib.pyplot  as plt\n",
        "import itertools as ite\n",
        "import numpy as np\n",
        "import math"
      ],
      "execution_count": null,
      "outputs": []
    },
    {
      "cell_type": "code",
      "metadata": {
        "id": "zHAGYh3Y-J-E"
      },
      "source": [
        "n=7 #clientes \n",
        "clientes = [x for x in range (1,n+1)]\n",
        "nodos = [0]+clientes \n",
        "\n",
        "\n",
        "rnd = np.random\n",
        "rnd.seed(1)\n",
        "q={i:rnd.randint (1,10) for i in clientes}"
      ],
      "execution_count": null,
      "outputs": []
    },
    {
      "cell_type": "code",
      "metadata": {
        "id": "4r12UPPGArh5"
      },
      "source": [
        "#Crear coordenadas\n",
        "rnd.seed(1)\n",
        "loc_x = rnd.rand(len(nodos))*200\n",
        "loc_y = rnd.rand(len(nodos))*100\n"
      ],
      "execution_count": null,
      "outputs": []
    },
    {
      "cell_type": "code",
      "metadata": {
        "colab": {
          "base_uri": "https://localhost:8080/",
          "height": 350
        },
        "id": "t5QczoJYA_pa",
        "outputId": "bbc75f45-819c-44b3-9461-3c6416836c6a"
      },
      "source": [
        "plt.figure(figsize=(14 ,5))\n",
        "plt.scatter(loc_x,loc_y,color=\"green\")\n",
        "\n",
        "for i in clientes:\n",
        "  plt.annotate('$q_{%d}=%d$'%(i,q[i]),(loc_x[i]+1,loc_y[i]-0.5))\n",
        "\n",
        "plt.plot(loc_x[0],loc_y[0],color='red',marker='s')\n",
        "plt.annotate('DC',(loc_x[0]-2,loc_y[0]+2))\n",
        "\n",
        "plt.title(\"Gráfico de Nodos | VRP\")\n",
        "plt.xlabel(\"Eje X\")\n",
        "plt.ylabel(\"Eje Y\")\n",
        "\n",
        "plt.show()"
      ],
      "execution_count": null,
      "outputs": [
        {
          "output_type": "display_data",
          "data": {
            "image/png": "[encoded data removed]",
            "text/plain": [
              "<Figure size 1008x360 with 1 Axes>"
            ]
          },
          "metadata": {
            "needs_background": "light"
          }
        }
      ]
    },
    {
      "cell_type": "markdown",
      "metadata": {
        "id": "bfj5kV5fFM9y"
      },
      "source": [
        "#Creando las estructuras de datos\n"
      ]
    },
    {
      "cell_type": "code",
      "metadata": {
        "id": "jpfdPTLaFRri"
      },
      "source": [
        "arcos = {(i,j) for i in nodos for j in nodos if i!=j}\n"
      ],
      "execution_count": null,
      "outputs": []
    },
    {
      "cell_type": "code",
      "metadata": {
        "id": "wg76ocZVFZ8v",
        "colab": {
          "base_uri": "https://localhost:8080/"
        },
        "outputId": "2dc07c98-09a0-4e84-e35e-1d532c26e413"
      },
      "source": [
        "distancia = {(i,j):np.hypot(loc_x[i]-loc_x[j],loc_y[i]-loc_y[j])\n",
        "            for i in nodos for j in nodos if i!=j}\n",
        "\n",
        "distancia"
      ],
      "execution_count": null,
      "outputs": [
        {
          "output_type": "execute_result",
          "data": {
            "text/plain": [
              "{(0, 1): 62.301492029041356,\n",
              " (0, 2): 83.41168140955925,\n",
              " (0, 3): 36.85366124473288,\n",
              " (0, 4): 57.37248773002224,\n",
              " (0, 5): 80.83161836908853,\n",
              " (0, 6): 59.113916935512336,\n",
              " (0, 7): 30.876943905885113,\n",
              " (1, 0): 62.301492029041356,\n",
              " (1, 2): 144.53788206903806,\n",
              " (1, 3): 84.87065178602312,\n",
              " (1, 4): 119.4873790829542,\n",
              " (1, 5): 130.09958195056058,\n",
              " (1, 6): 118.42543626996716,\n",
              " (1, 7): 76.10016092559066,\n",
              " (2, 0): 83.41168140955925,\n",
              " (2, 1): 144.53788206903806,\n",
              " (2, 3): 66.03882566595105,\n",
              " (2, 4): 36.34957731462702,\n",
              " (2, 5): 49.46023405810966,\n",
              " (2, 6): 54.047548823180165,\n",
              " (2, 7): 73.51672241537803,\n",
              " (3, 0): 36.85366124473288,\n",
              " (3, 1): 84.87065178602312,\n",
              " (3, 2): 66.03882566595105,\n",
              " (3, 4): 57.267230159152845,\n",
              " (3, 5): 46.21682557962978,\n",
              " (3, 6): 69.7591564109922,\n",
              " (3, 7): 8.770584102897292,\n",
              " (4, 0): 57.37248773002224,\n",
              " (4, 1): 119.4873790829542,\n",
              " (4, 2): 36.34957731462702,\n",
              " (4, 3): 57.267230159152845,\n",
              " (4, 5): 68.23999942509687,\n",
              " (4, 6): 19.389238758951805,\n",
              " (4, 7): 61.258768727151285,\n",
              " (5, 0): 80.83161836908853,\n",
              " (5, 1): 130.09958195056058,\n",
              " (5, 2): 49.46023405810966,\n",
              " (5, 3): 46.21682557962978,\n",
              " (5, 4): 68.23999942509687,\n",
              " (5, 6): 87.12211810814264,\n",
              " (5, 7): 54.73612015389341,\n",
              " (6, 0): 59.113916935512336,\n",
              " (6, 1): 118.42543626996716,\n",
              " (6, 2): 54.047548823180165,\n",
              " (6, 3): 69.7591564109922,\n",
              " (6, 4): 19.389238758951805,\n",
              " (6, 5): 87.12211810814264,\n",
              " (6, 7): 71.76756905376104,\n",
              " (7, 0): 30.876943905885113,\n",
              " (7, 1): 76.10016092559066,\n",
              " (7, 2): 73.51672241537803,\n",
              " (7, 3): 8.770584102897292,\n",
              " (7, 4): 61.258768727151285,\n",
              " (7, 5): 54.73612015389341,\n",
              " (7, 6): 71.76756905376104}"
            ]
          },
          "metadata": {},
          "execution_count": 38
        }
      ]
    },
    {
      "cell_type": "markdown",
      "metadata": {
        "id": "xVpcF6EnGFxs"
      },
      "source": [
        "# Creación y Optimización - CVRP"
      ]
    },
    {
      "cell_type": "code",
      "metadata": {
        "id": "2i21tQyry9Xa"
      },
      "source": [
        ""
      ],
      "execution_count": null,
      "outputs": []
    }
  ]
}