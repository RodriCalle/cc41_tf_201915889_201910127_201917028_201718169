{
  "nbformat": 4,
  "nbformat_minor": 0,
  "metadata": {
    "colab": {
      "name": "DFS segunda version.ipynb",
      "provenance": [],
      "collapsed_sections": []
    },
    "kernelspec": {
      "name": "python3",
      "display_name": "Python 3"
    },
    "language_info": {
      "name": "python"
    }
  },
  "cells": [
    {
      "cell_type": "code",
      "metadata": {
        "id": "H65cg_HCPYUi"
      },
      "source": [
        "import csv\n",
        "import matplotlib.pyplot as plt\n",
        "import pandas as pd\n",
        "import numpy as np\n",
        "import random\n",
        "import graphviz as gv\n",
        "import math\n",
        "import heapq as hq\n",
        "from google.colab import files"
      ],
      "execution_count": null,
      "outputs": []
    },
    {
      "cell_type": "code",
      "metadata": {
        "id": "NqflKVCz0WIU"
      },
      "source": [
        "def adjlShow(L, labels=None, directed=False, weighted=False, path=[], layout=\"sfdp\"):\n",
        "  g = gv.Digraph(\"G\") if directed else gv.Graph(\"G\")\n",
        "  g.graph_attr[\"layout\"] = layout\n",
        "  g.edge_attr[\"color\"] = \"gray\"\n",
        "  g.node_attr[\"color\"] = \"orangered\"\n",
        "  g.node_attr[\"width\"] = \"0.1\"\n",
        "  g.node_attr[\"height\"] = \"0.1\"\n",
        "  g.node_attr[\"fontsize\"] = \"8\"\n",
        "  g.node_attr[\"fontcolor\"] = \"mediumslateblue\"\n",
        "  g.node_attr[\"fontname\"] = \"monospace\"\n",
        "  n = len(L)\n",
        "  for u in range(n):\n",
        "    g.node(str(u), labels[u] if labels else str(u))\n",
        "  added = set()\n",
        "  for v, u in enumerate(path):\n",
        "    if u != None:\n",
        "      g.edge(str(u), str(v), dir=\"forward\", penwidth=\"2\", color=\"orange\")\n",
        "      added.add(f\"{u},{v}\")\n",
        "      added.add(f\"{v},{u}\")\n",
        "  if weighted:\n",
        "    for u in range(n):\n",
        "      for v, w in L[u]:\n",
        "        if not directed and not f\"{u},{v}\" in added:\n",
        "          added.add(f\"{u},{v}\")\n",
        "          added.add(f\"{v},{u}\")\n",
        "          g.edge(str(u), str(v), str(w))\n",
        "        elif directed:\n",
        "          g.edge(str(u), str(v), str(w))\n",
        "  else:\n",
        "    for u in range(n):\n",
        "      for v in L[u]:\n",
        "        if not directed and not f\"{u},{v}\" in added:\n",
        "          added.add(f\"{u},{v}\")\n",
        "          added.add(f\"{v},{u}\")\n",
        "          g.edge(str(u), str(v))\n",
        "        elif directed:\n",
        "          g.edge(str(u), str(v))\n",
        "  return g"
      ],
      "execution_count": null,
      "outputs": []
    },
    {
      "cell_type": "code",
      "metadata": {
        "id": "oEWarvO7BiYv"
      },
      "source": [
        "def setEmptyGraph(size):\n",
        "  n = size*size\n",
        "  G = [ [] for _ in range(n) ]\n",
        "  for x in range(size):\n",
        "    for y in range(size):\n",
        "      if(size > x + 1):\n",
        "        G[ ((x * size) + y) ].append(((x+1) * size) + y)\n",
        "      if(0 <= x - 1):\n",
        "        G[ ((x * size) + y) ].append(((x-1) * size) + y)\n",
        "      if(size > y + 1):\n",
        "        G[ ((x * size) + y) ].append((x * size) + (y+1))\n",
        "      if(0 <= y - 1):\n",
        "        G[ ((x * size) + y) ].append((x * size) + (y-1))\n",
        "  return G\n",
        "\n",
        "def setKnownPoints(size, almacen, entrega):\n",
        "  id = [\"empty\"]*(size*size)\n",
        "  for a in almacen:\n",
        "    x, y = a[0], a[1]\n",
        "    pos = x*size + y\n",
        "    id[pos] = \"A\"\n",
        "  for a in entrega:\n",
        "    x, y = a[0], a[1]\n",
        "    pos = x*size + y\n",
        "    id[pos] = \"E\"\n",
        "  return id\n",
        "\n",
        "def getGraphWeighted(G):\n",
        "  adjlListWeighted = [[] for i in range(len(G))]\n",
        "  for i in range(len(G)):\n",
        "    for j in range(len(G[i])):\n",
        "      adjlListWeighted[i].append(   ( G[i][j], round( math.sqrt( (( (i // (len(G)/2) ) - (G[i][j] //  (len(G)/2) ) )**2) + (( (i %  (len(G)/2) ) - (G[i][j] %  (len(G)/2) ) )**2)   )          )  )    )\n",
        "  return adjlListWeighted"
      ],
      "execution_count": null,
      "outputs": []
    },
    {
      "cell_type": "code",
      "metadata": {
        "colab": {
          "base_uri": "https://localhost:8080/",
          "height": 620
        },
        "id": "pG_gutbtp1md",
        "outputId": "2b7b3240-e4cc-466b-c6fb-85e2cc7553be"
      },
      "source": [
        "alm = [[0,1],[1,2],[0,0],[3,0],[2,1]]\n",
        "ent = [[1,0],[1,1],[2,0],[3,1]]\n",
        "\n",
        "size = 4\n",
        "\n",
        "Gp = setEmptyGraph(size)\n",
        "print(Gp)\n",
        "\n",
        "labels = setKnownPoints(size, alm, ent)\n",
        "print(labels)\n",
        "\n",
        "GWp = getGraphWeighted(Gp)\n",
        "print(GWp)\n",
        "\n",
        "adjlShow(GWp, labels=labels, weighted=True)"
      ],
      "execution_count": null,
      "outputs": [
        {
          "output_type": "stream",
          "name": "stdout",
          "text": [
            "[[4, 1], [5, 2, 0], [6, 3, 1], [7, 2], [8, 0, 5], [9, 1, 6, 4], [10, 2, 7, 5], [11, 3, 6], [12, 4, 9], [13, 5, 10, 8], [14, 6, 11, 9], [15, 7, 10], [8, 13], [9, 14, 12], [10, 15, 13], [11, 14]]\n",
            "['A', 'A', 'empty', 'empty', 'E', 'E', 'A', 'empty', 'E', 'A', 'empty', 'empty', 'A', 'E', 'empty', 'empty']\n",
            "[[(4, 4), (1, 1)], [(5, 4), (2, 1), (0, 1)], [(6, 4), (3, 1), (1, 1)], [(7, 4), (2, 1)], [(8, 4), (0, 4), (5, 1)], [(9, 4), (1, 4), (6, 1), (4, 1)], [(10, 4), (2, 4), (7, 1), (5, 1)], [(11, 4), (3, 4), (6, 1)], [(12, 4), (4, 4), (9, 1)], [(13, 4), (5, 4), (10, 1), (8, 1)], [(14, 4), (6, 4), (11, 1), (9, 1)], [(15, 4), (7, 4), (10, 1)], [(8, 4), (13, 1)], [(9, 4), (14, 1), (12, 1)], [(10, 4), (15, 1), (13, 1)], [(11, 4), (14, 1)]]\n"
          ]
        },
        {
          "output_type": "execute_result",
          "data": {
            "text/plain": [
              "<graphviz.dot.Graph at 0x7fe4b6d35c90>"
            ],
            "image/svg+xml": "<?xml version=\"1.0\" encoding=\"UTF-8\" standalone=\"no\"?>\n<!DOCTYPE svg PUBLIC \"-//W3C//DTD SVG 1.1//EN\"\n \"http://www.w3.org/Graphics/SVG/1.1/DTD/svg11.dtd\">\n<!-- Generated by graphviz version 2.40.1 (20161225.0304)\n -->\n<!-- Title: G Pages: 1 -->\n<svg width=\"424pt\" height=\"396pt\"\n viewBox=\"0.00 0.00 423.69 396.18\" xmlns=\"http://www.w3.org/2000/svg\" xmlns:xlink=\"http://www.w3.org/1999/xlink\">\n<g id=\"graph0\" class=\"graph\" transform=\"scale(1 1) rotate(0) translate(4 392.1843)\">\n<title>G</title>\n<polygon fill=\"#ffffff\" stroke=\"transparent\" points=\"-4,4 -4,-392.1843 419.6893,-392.1843 419.6893,4 -4,4\"/>\n<!-- 0 -->\n<g id=\"node1\" class=\"node\">\n<title>0</title>\n<ellipse fill=\"none\" stroke=\"#ff4500\" cx=\"24.2192\" cy=\"-356.1011\" rx=\"15.6129\" ry=\"12.0417\"/>\n<text text-anchor=\"middle\" x=\"24.2192\" y=\"-354.2011\" font-family=\"monospace\" font-size=\"8.00\" fill=\"#7b68ee\">A</text>\n</g>\n<!-- 1 -->\n<g id=\"node2\" class=\"node\">\n<title>1</title>\n<ellipse fill=\"none\" stroke=\"#ff4500\" cx=\"24.1719\" cy=\"-246.1542\" rx=\"15.6129\" ry=\"12.0417\"/>\n<text text-anchor=\"middle\" x=\"24.1719\" y=\"-244.2542\" font-family=\"monospace\" font-size=\"8.00\" fill=\"#7b68ee\">A</text>\n</g>\n<!-- 0&#45;&#45;1 -->\n<g id=\"edge2\" class=\"edge\">\n<title>0&#45;&#45;1</title>\n<path fill=\"none\" stroke=\"#c0c0c0\" d=\"M24.214,-343.9148C24.2049,-322.7807 24.1863,-279.5671 24.1772,-258.3951\"/>\n<text text-anchor=\"middle\" x=\"20.1956\" y=\"-304.9549\" font-family=\"Times,serif\" font-size=\"14.00\" fill=\"#000000\">1</text>\n</g>\n<!-- 4 -->\n<g id=\"node5\" class=\"node\">\n<title>4</title>\n<ellipse fill=\"none\" stroke=\"#ff4500\" cx=\"133.5176\" cy=\"-367.0383\" rx=\"15.6129\" ry=\"12.0417\"/>\n<text text-anchor=\"middle\" x=\"133.5176\" y=\"-365.1383\" font-family=\"monospace\" font-size=\"8.00\" fill=\"#7b68ee\">E</text>\n</g>\n<!-- 0&#45;&#45;4 -->\n<g id=\"edge1\" class=\"edge\">\n<title>0&#45;&#45;4</title>\n<path fill=\"none\" stroke=\"#c0c0c0\" d=\"M39.879,-357.6681C60.6566,-359.7473 97.1239,-363.3965 117.8868,-365.4742\"/>\n<text text-anchor=\"middle\" x=\"74.8829\" y=\"-365.3712\" font-family=\"Times,serif\" font-size=\"14.00\" fill=\"#000000\">4</text>\n</g>\n<!-- 2 -->\n<g id=\"node3\" class=\"node\">\n<title>2</title>\n<ellipse fill=\"none\" stroke=\"#ff4500\" cx=\"30.4056\" cy=\"-121.7813\" rx=\"30.3115\" ry=\"12.0417\"/>\n<text text-anchor=\"middle\" x=\"30.4056\" y=\"-119.8813\" font-family=\"monospace\" font-size=\"8.00\" fill=\"#7b68ee\">empty</text>\n</g>\n<!-- 1&#45;&#45;2 -->\n<g id=\"edge4\" class=\"edge\">\n<title>1&#45;&#45;2</title>\n<path fill=\"none\" stroke=\"#c0c0c0\" d=\"M24.7924,-233.7742C25.9873,-209.9344 28.5947,-157.9116 29.7876,-134.1113\"/>\n<text text-anchor=\"middle\" x=\"23.29\" y=\"-187.7427\" font-family=\"Times,serif\" font-size=\"14.00\" fill=\"#000000\">1</text>\n</g>\n<!-- 5 -->\n<g id=\"node6\" class=\"node\">\n<title>5</title>\n<ellipse fill=\"none\" stroke=\"#ff4500\" cx=\"137.334\" cy=\"-253.5816\" rx=\"15.6129\" ry=\"12.0417\"/>\n<text text-anchor=\"middle\" x=\"137.334\" y=\"-251.6816\" font-family=\"monospace\" font-size=\"8.00\" fill=\"#7b68ee\">E</text>\n</g>\n<!-- 1&#45;&#45;5 -->\n<g id=\"edge3\" class=\"edge\">\n<title>1&#45;&#45;5</title>\n<path fill=\"none\" stroke=\"#c0c0c0\" d=\"M39.9067,-247.187C61.5266,-248.606 100.1835,-251.1432 121.733,-252.5576\"/>\n<text text-anchor=\"middle\" x=\"76.8198\" y=\"-253.6723\" font-family=\"Times,serif\" font-size=\"14.00\" fill=\"#000000\">4</text>\n</g>\n<!-- 3 -->\n<g id=\"node4\" class=\"node\">\n<title>3</title>\n<ellipse fill=\"none\" stroke=\"#ff4500\" cx=\"41.2567\" cy=\"-12.2409\" rx=\"30.3115\" ry=\"12.0417\"/>\n<text text-anchor=\"middle\" x=\"41.2567\" y=\"-10.3409\" font-family=\"monospace\" font-size=\"8.00\" fill=\"#7b68ee\">empty</text>\n</g>\n<!-- 2&#45;&#45;3 -->\n<g id=\"edge6\" class=\"edge\">\n<title>2&#45;&#45;3</title>\n<path fill=\"none\" stroke=\"#c0c0c0\" d=\"M31.6083,-109.6401C33.6941,-88.5841 37.959,-45.5303 40.0486,-24.4366\"/>\n<text text-anchor=\"middle\" x=\"31.8284\" y=\"-70.8383\" font-family=\"Times,serif\" font-size=\"14.00\" fill=\"#000000\">1</text>\n</g>\n<!-- 6 -->\n<g id=\"node7\" class=\"node\">\n<title>6</title>\n<ellipse fill=\"none\" stroke=\"#ff4500\" cx=\"143.7977\" cy=\"-125.3669\" rx=\"15.6129\" ry=\"12.0417\"/>\n<text text-anchor=\"middle\" x=\"143.7977\" y=\"-123.4669\" font-family=\"monospace\" font-size=\"8.00\" fill=\"#7b68ee\">A</text>\n</g>\n<!-- 2&#45;&#45;6 -->\n<g id=\"edge5\" class=\"edge\">\n<title>2&#45;&#45;6</title>\n<path fill=\"none\" stroke=\"#c0c0c0\" d=\"M60.7926,-122.7422C82.4412,-123.4267 110.6654,-124.3192 127.9956,-124.8672\"/>\n<text text-anchor=\"middle\" x=\"90.3941\" y=\"-127.6047\" font-family=\"Times,serif\" font-size=\"14.00\" fill=\"#000000\">4</text>\n</g>\n<!-- 7 -->\n<g id=\"node8\" class=\"node\">\n<title>7</title>\n<ellipse fill=\"none\" stroke=\"#ff4500\" cx=\"151.3231\" cy=\"-12.0208\" rx=\"30.3115\" ry=\"12.0417\"/>\n<text text-anchor=\"middle\" x=\"151.3231\" y=\"-10.1208\" font-family=\"monospace\" font-size=\"8.00\" fill=\"#7b68ee\">empty</text>\n</g>\n<!-- 3&#45;&#45;7 -->\n<g id=\"edge7\" class=\"edge\">\n<title>3&#45;&#45;7</title>\n<path fill=\"none\" stroke=\"#c0c0c0\" d=\"M71.9163,-12.1796C87.1825,-12.1491 105.5844,-12.1123 120.8279,-12.0818\"/>\n<text text-anchor=\"middle\" x=\"92.3721\" y=\"-15.9307\" font-family=\"Times,serif\" font-size=\"14.00\" fill=\"#000000\">4</text>\n</g>\n<!-- 4&#45;&#45;5 -->\n<g id=\"edge9\" class=\"edge\">\n<title>4&#45;&#45;5</title>\n<path fill=\"none\" stroke=\"#c0c0c0\" d=\"M133.926,-354.8965C134.6606,-333.0593 136.1961,-287.4098 136.9286,-265.6362\"/>\n<text text-anchor=\"middle\" x=\"131.4273\" y=\"-314.0663\" font-family=\"Times,serif\" font-size=\"14.00\" fill=\"#000000\">1</text>\n</g>\n<!-- 8 -->\n<g id=\"node9\" class=\"node\">\n<title>8</title>\n<ellipse fill=\"none\" stroke=\"#ff4500\" cx=\"258.2178\" cy=\"-373.2194\" rx=\"15.6129\" ry=\"12.0417\"/>\n<text text-anchor=\"middle\" x=\"258.2178\" y=\"-371.3194\" font-family=\"monospace\" font-size=\"8.00\" fill=\"#7b68ee\">E</text>\n</g>\n<!-- 4&#45;&#45;8 -->\n<g id=\"edge8\" class=\"edge\">\n<title>4&#45;&#45;8</title>\n<path fill=\"none\" stroke=\"#c0c0c0\" d=\"M149.0588,-367.8087C172.9547,-368.9931 218.4673,-371.2491 242.4807,-372.4394\"/>\n<text text-anchor=\"middle\" x=\"191.7697\" y=\"-373.924\" font-family=\"Times,serif\" font-size=\"14.00\" fill=\"#000000\">4</text>\n</g>\n<!-- 5&#45;&#45;6 -->\n<g id=\"edge11\" class=\"edge\">\n<title>5&#45;&#45;6</title>\n<path fill=\"none\" stroke=\"#c0c0c0\" d=\"M137.9538,-241.2879C139.1924,-216.7181 141.96,-161.82 143.1892,-137.4362\"/>\n<text text-anchor=\"middle\" x=\"136.5715\" y=\"-193.162\" font-family=\"Times,serif\" font-size=\"14.00\" fill=\"#000000\">1</text>\n</g>\n<!-- 9 -->\n<g id=\"node10\" class=\"node\">\n<title>9</title>\n<ellipse fill=\"none\" stroke=\"#ff4500\" cx=\"265.6372\" cy=\"-260.0732\" rx=\"15.6129\" ry=\"12.0417\"/>\n<text text-anchor=\"middle\" x=\"265.6372\" y=\"-258.1732\" font-family=\"monospace\" font-size=\"8.00\" fill=\"#7b68ee\">A</text>\n</g>\n<!-- 5&#45;&#45;9 -->\n<g id=\"edge10\" class=\"edge\">\n<title>5&#45;&#45;9</title>\n<path fill=\"none\" stroke=\"#c0c0c0\" d=\"M153.0665,-254.3776C177.6914,-255.6235 225.0722,-258.0208 249.776,-259.2707\"/>\n<text text-anchor=\"middle\" x=\"197.4213\" y=\"-260.6242\" font-family=\"Times,serif\" font-size=\"14.00\" fill=\"#000000\">4</text>\n</g>\n<!-- 6&#45;&#45;7 -->\n<g id=\"edge13\" class=\"edge\">\n<title>6&#45;&#45;7</title>\n<path fill=\"none\" stroke=\"#c0c0c0\" d=\"M144.603,-113.2369C146.0515,-91.4209 149.0794,-45.816 150.5236,-24.0636\"/>\n<text text-anchor=\"middle\" x=\"143.5633\" y=\"-72.4502\" font-family=\"Times,serif\" font-size=\"14.00\" fill=\"#000000\">1</text>\n</g>\n<!-- 10 -->\n<g id=\"node11\" class=\"node\">\n<title>10</title>\n<ellipse fill=\"none\" stroke=\"#ff4500\" cx=\"272.0524\" cy=\"-131.894\" rx=\"30.3115\" ry=\"12.0417\"/>\n<text text-anchor=\"middle\" x=\"272.0524\" y=\"-129.994\" font-family=\"monospace\" font-size=\"8.00\" fill=\"#7b68ee\">empty</text>\n</g>\n<!-- 6&#45;&#45;10 -->\n<g id=\"edge12\" class=\"edge\">\n<title>6&#45;&#45;10</title>\n<path fill=\"none\" stroke=\"#c0c0c0\" d=\"M159.5242,-126.1672C179.9257,-127.2055 215.9527,-129.039 241.7492,-130.3518\"/>\n<text text-anchor=\"middle\" x=\"196.6367\" y=\"-132.0595\" font-family=\"Times,serif\" font-size=\"14.00\" fill=\"#000000\">4</text>\n</g>\n<!-- 11 -->\n<g id=\"node12\" class=\"node\">\n<title>11</title>\n<ellipse fill=\"none\" stroke=\"#ff4500\" cx=\"275.8527\" cy=\"-18.4031\" rx=\"30.3115\" ry=\"12.0417\"/>\n<text text-anchor=\"middle\" x=\"275.8527\" y=\"-16.5031\" font-family=\"monospace\" font-size=\"8.00\" fill=\"#7b68ee\">empty</text>\n</g>\n<!-- 7&#45;&#45;11 -->\n<g id=\"edge14\" class=\"edge\">\n<title>7&#45;&#45;11</title>\n<path fill=\"none\" stroke=\"#c0c0c0\" d=\"M181.7865,-13.5821C201.084,-14.5711 225.9523,-15.8456 245.2723,-16.8358\"/>\n<text text-anchor=\"middle\" x=\"209.5294\" y=\"-19.0089\" font-family=\"Times,serif\" font-size=\"14.00\" fill=\"#000000\">4</text>\n</g>\n<!-- 8&#45;&#45;9 -->\n<g id=\"edge16\" class=\"edge\">\n<title>8&#45;&#45;9</title>\n<path fill=\"none\" stroke=\"#c0c0c0\" d=\"M259.0118,-361.1108C260.4398,-339.3333 263.425,-293.8088 264.8489,-272.0948\"/>\n<text text-anchor=\"middle\" x=\"257.9303\" y=\"-320.4028\" font-family=\"Times,serif\" font-size=\"14.00\" fill=\"#000000\">1</text>\n</g>\n<!-- 12 -->\n<g id=\"node13\" class=\"node\">\n<title>12</title>\n<ellipse fill=\"none\" stroke=\"#ff4500\" cx=\"368.1305\" cy=\"-373.1492\" rx=\"15.6129\" ry=\"12.0417\"/>\n<text text-anchor=\"middle\" x=\"368.1305\" y=\"-371.2492\" font-family=\"monospace\" font-size=\"8.00\" fill=\"#7b68ee\">A</text>\n</g>\n<!-- 8&#45;&#45;12 -->\n<g id=\"edge15\" class=\"edge\">\n<title>8&#45;&#45;12</title>\n<path fill=\"none\" stroke=\"#c0c0c0\" d=\"M273.9656,-373.2094C294.86,-373.196 331.5322,-373.1726 352.4119,-373.1593\"/>\n<text text-anchor=\"middle\" x=\"309.1887\" y=\"-376.9843\" font-family=\"Times,serif\" font-size=\"14.00\" fill=\"#000000\">4</text>\n</g>\n<!-- 9&#45;&#45;10 -->\n<g id=\"edge18\" class=\"edge\">\n<title>9&#45;&#45;10</title>\n<path fill=\"none\" stroke=\"#c0c0c0\" d=\"M266.2523,-247.7828C267.4816,-223.2199 270.2284,-168.337 271.4485,-143.96\"/>\n<text text-anchor=\"middle\" x=\"264.8504\" y=\"-199.6714\" font-family=\"Times,serif\" font-size=\"14.00\" fill=\"#000000\">1</text>\n</g>\n<!-- 13 -->\n<g id=\"node14\" class=\"node\">\n<title>13</title>\n<ellipse fill=\"none\" stroke=\"#ff4500\" cx=\"379.2234\" cy=\"-263.7816\" rx=\"15.6129\" ry=\"12.0417\"/>\n<text text-anchor=\"middle\" x=\"379.2234\" y=\"-261.8816\" font-family=\"monospace\" font-size=\"8.00\" fill=\"#7b68ee\">E</text>\n</g>\n<!-- 9&#45;&#45;13 -->\n<g id=\"edge17\" class=\"edge\">\n<title>9&#45;&#45;13</title>\n<path fill=\"none\" stroke=\"#c0c0c0\" d=\"M281.4308,-260.5888C303.1318,-261.2973 341.9336,-262.5641 363.5638,-263.2703\"/>\n<text text-anchor=\"middle\" x=\"318.4973\" y=\"-265.7296\" font-family=\"Times,serif\" font-size=\"14.00\" fill=\"#000000\">4</text>\n</g>\n<!-- 10&#45;&#45;11 -->\n<g id=\"edge20\" class=\"edge\">\n<title>10&#45;&#45;11</title>\n<path fill=\"none\" stroke=\"#c0c0c0\" d=\"M272.4591,-119.7485C273.1905,-97.9047 274.7196,-52.2414 275.4489,-30.4613\"/>\n<text text-anchor=\"middle\" x=\"269.954\" y=\"-78.9049\" font-family=\"Times,serif\" font-size=\"14.00\" fill=\"#000000\">1</text>\n</g>\n<!-- 14 -->\n<g id=\"node15\" class=\"node\">\n<title>14</title>\n<ellipse fill=\"none\" stroke=\"#ff4500\" cx=\"385.2201\" cy=\"-139.3937\" rx=\"30.3115\" ry=\"12.0417\"/>\n<text text-anchor=\"middle\" x=\"385.2201\" y=\"-137.4937\" font-family=\"monospace\" font-size=\"8.00\" fill=\"#7b68ee\">empty</text>\n</g>\n<!-- 10&#45;&#45;14 -->\n<g id=\"edge19\" class=\"edge\">\n<title>10&#45;&#45;14</title>\n<path fill=\"none\" stroke=\"#c0c0c0\" d=\"M302.0821,-133.8841C318.4525,-134.9689 338.6578,-136.308 355.05,-137.3943\"/>\n<text text-anchor=\"middle\" x=\"324.5661\" y=\"-139.4392\" font-family=\"Times,serif\" font-size=\"14.00\" fill=\"#000000\">4</text>\n</g>\n<!-- 15 -->\n<g id=\"node16\" class=\"node\">\n<title>15</title>\n<ellipse fill=\"none\" stroke=\"#ff4500\" cx=\"385.2837\" cy=\"-29.3892\" rx=\"30.3115\" ry=\"12.0417\"/>\n<text text-anchor=\"middle\" x=\"385.2837\" y=\"-27.4892\" font-family=\"monospace\" font-size=\"8.00\" fill=\"#7b68ee\">empty</text>\n</g>\n<!-- 11&#45;&#45;15 -->\n<g id=\"edge21\" class=\"edge\">\n<title>11&#45;&#45;15</title>\n<path fill=\"none\" stroke=\"#c0c0c0\" d=\"M305.4663,-21.3761C321.0376,-22.9393 340.0717,-24.8502 355.6464,-26.4138\"/>\n<text text-anchor=\"middle\" x=\"326.5564\" y=\"-27.6949\" font-family=\"Times,serif\" font-size=\"14.00\" fill=\"#000000\">4</text>\n</g>\n<!-- 12&#45;&#45;13 -->\n<g id=\"edge22\" class=\"edge\">\n<title>12&#45;&#45;13</title>\n<path fill=\"none\" stroke=\"#c0c0c0\" d=\"M369.36,-361.0271C371.4923,-340.0044 375.8522,-297.0185 377.9883,-275.958\"/>\n<text text-anchor=\"middle\" x=\"369.6742\" y=\"-322.2926\" font-family=\"Times,serif\" font-size=\"14.00\" fill=\"#000000\">1</text>\n</g>\n<!-- 13&#45;&#45;14 -->\n<g id=\"edge23\" class=\"edge\">\n<title>13&#45;&#45;14</title>\n<path fill=\"none\" stroke=\"#c0c0c0\" d=\"M379.8203,-251.4C380.9697,-227.5574 383.478,-175.5283 384.6256,-151.7251\"/>\n<text text-anchor=\"middle\" x=\"378.2229\" y=\"-205.3626\" font-family=\"Times,serif\" font-size=\"14.00\" fill=\"#000000\">1</text>\n</g>\n<!-- 14&#45;&#45;15 -->\n<g id=\"edge24\" class=\"edge\">\n<title>14&#45;&#45;15</title>\n<path fill=\"none\" stroke=\"#c0c0c0\" d=\"M385.2271,-127.201C385.2394,-106.0558 385.2644,-62.8196 385.2766,-41.6365\"/>\n<text text-anchor=\"middle\" x=\"381.2519\" y=\"-88.2187\" font-family=\"Times,serif\" font-size=\"14.00\" fill=\"#000000\">1</text>\n</g>\n</g>\n</svg>\n"
          },
          "metadata": {},
          "execution_count": 20
        }
      ]
    },
    {
      "cell_type": "code",
      "metadata": {
        "id": "mW7t_ZfN5m7t"
      },
      "source": [
        "graphFile = open('adjlistexample.txt', 'w')\n",
        "with graphFile:\n",
        "  writer = csv.writer(graphFile)\n",
        "  writer.writerows(Gp)"
      ],
      "execution_count": null,
      "outputs": []
    },
    {
      "cell_type": "code",
      "metadata": {
        "id": "stL3frzh9sjk"
      },
      "source": [
        "def getAlmPoint(size, almacen):\n",
        "  alm = []\n",
        "  for a in almacen:\n",
        "    x, y = a[0], a[1]\n",
        "    pos = x*size + y\n",
        "    alm.append(pos)\n",
        "  return alm\n",
        "\n",
        "def getCoord(pos, size):\n",
        "  x = pos // size\n",
        "  y = pos % size\n",
        "  return [x, y]\n",
        "\n",
        "def getEntPoint(size, entrega):\n",
        "  ent = []\n",
        "  for a in entrega:\n",
        "    x, y = a[0], a[1]\n",
        "    pos = x*size + y\n",
        "    ent.append(pos)\n",
        "  return ent"
      ],
      "execution_count": null,
      "outputs": []
    },
    {
      "cell_type": "code",
      "metadata": {
        "colab": {
          "base_uri": "https://localhost:8080/"
        },
        "id": "aIEr4OyY9z4D",
        "outputId": "c00f7274-5654-45a3-d1bd-22c9c50d3b9a"
      },
      "source": [
        "size = 4\n",
        "\n",
        "arregloAlmP = getAlmPoint(size,alm)\n",
        "print(arregloAlmP)\n",
        "\n",
        "arregloEntP = getEntPoint(size,ent)\n",
        "print(arregloEntP)\n"
      ],
      "execution_count": null,
      "outputs": [
        {
          "output_type": "stream",
          "name": "stdout",
          "text": [
            "[1, 6, 0, 12, 9]\n",
            "[4, 5, 8, 13]\n"
          ]
        }
      ]
    },
    {
      "cell_type": "code",
      "metadata": {
        "id": "FCiFrYIad6kp"
      },
      "source": [
        "def dfs_stack(G, s):\n",
        "  n = len(G)\n",
        "  visited = [False]*n\n",
        "  parent = [None]*n\n",
        "  stack = [s]\n",
        "  while stack:\n",
        "    u = stack.pop()\n",
        "    if not visited[u]:\n",
        "      visited[u] = True\n",
        "      for v in G[u]:\n",
        "        if not visited[v]:\n",
        "          parent[v] = u\n",
        "          stack.append(v)\n",
        "\n",
        "  return parent"
      ],
      "execution_count": null,
      "outputs": []
    },
    {
      "cell_type": "code",
      "metadata": {
        "id": "Kcay4a1nncYV"
      },
      "source": [
        "def dfsEntregas(almacenes, entregas, G):\n",
        "  caminos = []\n",
        "  for i in almacenes:\n",
        "    path = dfs_stack(G, i)\n",
        "    caminos.append(path)\n",
        "  return caminos\n"
      ],
      "execution_count": null,
      "outputs": []
    },
    {
      "cell_type": "code",
      "metadata": {
        "colab": {
          "base_uri": "https://localhost:8080/"
        },
        "id": "Ws8L_88PxRJR",
        "outputId": "434ea2b0-4e96-4e68-a7ce-7e5e8167ad70"
      },
      "source": [
        "entregas = dfsEntregas(arregloAlmP, arregloEntP, Gp)\n",
        "for i in range(len(arregloAlmP)):\n",
        "  print(\"Almacen\", arregloAlmP[i],\":\",entregas[i])"
      ],
      "execution_count": null,
      "outputs": [
        {
          "output_type": "stream",
          "name": "stdout",
          "text": [
            "Almacen 1 : [1, None, 3, 7, 0, 4, 5, 6, 9, 10, 11, 7, 8, 12, 13, 14]\n",
            "Almacen 6 : [4, 0, 1, 2, 5, 6, None, 3, 9, 10, 11, 7, 8, 12, 13, 14]\n",
            "Almacen 0 : [None, 0, 1, 2, 5, 6, 7, 3, 4, 8, 9, 10, 13, 14, 15, 11]\n",
            "Almacen 12 : [1, 2, 3, 7, 8, 4, 5, 6, 9, 10, 11, 15, None, 12, 13, 14]\n",
            "Almacen 9 : [1, 2, 3, 7, 8, 4, 5, 6, 9, None, 11, 7, 13, 14, 10, 14]\n"
          ]
        }
      ]
    }
  ]
}