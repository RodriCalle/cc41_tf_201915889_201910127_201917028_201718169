{
  "nbformat": 4,
  "nbformat_minor": 0,
  "metadata": {
    "colab": {
      "name": "Algoritmo DFS.ipynb",
      "provenance": [],
      "collapsed_sections": []
    },
    "kernelspec": {
      "name": "python3",
      "display_name": "Python 3"
    },
    "language_info": {
      "name": "python"
    }
  },
  "cells": [
    {
      "cell_type": "markdown",
      "metadata": {
        "id": "9z7UnlPcKSBv"
      },
      "source": [
        "#Algoritmo DFS que se Planea usar para abordar el problema "
      ]
    },
    {
      "cell_type": "code",
      "metadata": {
        "id": "8SE2Yh4DKNsZ"
      },
      "source": [
        "def dfs(G, s):\n",
        "  n = len(G)\n",
        "  visited = [False]*n\n",
        "  parent = [None]*n\n",
        "\n",
        "  def _dfs(u):\n",
        "    visited[u] = True\n",
        "    for v in G[u]:\n",
        "      if not visited[v]:\n",
        "        parent[v] = u\n",
        "        _dfs(v)\n",
        "\n",
        "  _dfs(s)\n",
        "\n",
        "  return parent"
      ],
      "execution_count": null,
      "outputs": []
    },
    {
      "cell_type": "markdown",
      "metadata": {
        "id": "kdOfbe0QNJtk"
      },
      "source": [
        "Lo que se tiene pensado es aplicar el algoritmo dfs desde cada nodo almacén hacia todos sus respectivos puntos de entrega previamente asignados mediante nuestro criterio de cercanía.\n",
        "\n"
      ]
    }
  ]
}