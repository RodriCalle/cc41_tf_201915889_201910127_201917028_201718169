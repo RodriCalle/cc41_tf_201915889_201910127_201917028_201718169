{
  "nbformat": 4,
  "nbformat_minor": 0,
  "metadata": {
    "colab": {
      "name": "Algoritmo_Divide y Venceras.ipynb",
      "provenance": [],
      "authorship_tag": "ABX9TyNLSvC3RON4jfaqaqUiL2if",
      "include_colab_link": true
    },
    "kernelspec": {
      "name": "python3",
      "display_name": "Python 3"
    },
    "language_info": {
      "name": "python"
    }
  },
  "cells": [
    {
      "cell_type": "markdown",
      "metadata": {
        "id": "view-in-github",
        "colab_type": "text"
      },
      "source": [
        "<a href=\"https://colab.research.google.com/github/RodriCalle/cc41_tf_201915889_201910127_201917028_201718169_20141a449/blob/master/Algoritmo_Divide_y_Venceras.ipynb\" target=\"_parent\"><img src=\"https://colab.research.google.com/assets/colab-badge.svg\" alt=\"Open In Colab\"/></a>"
      ]
    },
    {
      "cell_type": "markdown",
      "metadata": {
        "id": "RxnyCM4lbiWt"
      },
      "source": [
        "**Primer Avance**"
      ]
    },
    {
      "cell_type": "code",
      "metadata": {
        "id": "Y5vmj9NPbnB8"
      },
      "source": [
        "def dyv(Gw,almacenes):\n",
        "  ur=[]\n",
        "  ul=[]\n",
        "  dr=[]\n",
        "  dl=[]\n",
        "  nodoAlmacen=almacenes[-1]\n",
        "\n",
        "\n",
        "  for v in range(len(G)):\n",
        "    if(G[v][-1]>nodoAlmacen):\n",
        "      n=G[v][-1]-G[v][-1]%1000\n",
        "      n=nodoAlmacen%1000+n\n",
        "      if(G[v][-1]<n):\n",
        "        ul.append(G[v])\n",
        "      else:\n",
        "        ur.append(G[v])\n",
        "        \n",
        "    else:\n",
        "      n=G[v][-1]-G[v][-1]%1000\n",
        "      n=nodoAlmacen%1000+n\n",
        "      if(G[v][-1]<n):\n",
        "        dl.append(G[v])\n",
        "      else:\n",
        "        dr.append(G[v])"
      ],
      "execution_count": 2,
      "outputs": []
    },
    {
      "cell_type": "markdown",
      "metadata": {
        "id": "Xe6G2sw3b2R7"
      },
      "source": [
        "#Como primera propuesta, se ha pensando en dividir el arreglo de nodos en 4, tomando como punto central el almacén "
      ]
    }
  ]
}
