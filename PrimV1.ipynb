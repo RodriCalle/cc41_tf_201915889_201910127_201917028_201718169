{
 "cells": [
  {
   "cell_type": "code",
   "execution_count": 10,
   "metadata": {},
   "outputs": [],
   "source": [
    "def setEmptyGraph(size):\n",
    "  n = size*size\n",
    "  G = [ [] for _ in range(n) ]\n",
    "  for x in range(size):\n",
    "    for y in range(size):\n",
    "      if(size > x + 1):\n",
    "        G[ ((x * size) + y) ].append(((x+1) * size) + y)\n",
    "      if(0 <= x - 1):\n",
    "        G[ ((x * size) + y) ].append(((x-1) * size) + y)\n",
    "      if(size > y + 1):\n",
    "        G[ ((x * size) + y) ].append((x * size) + (y+1))\n",
    "      if(0 <= y - 1):\n",
    "        G[ ((x * size) + y) ].append((x * size) + (y-1))\n",
    "  return G\n",
    "\n",
    "def setKnownPoints(size, almacen, entrega):\n",
    "  id = [\"empty\"]*(size*size)\n",
    "  for a in almacen:\n",
    "    x, y = a[0], a[1]\n",
    "    pos = x*size + y\n",
    "    id[pos] = \"A\"\n",
    "  for a in entrega:\n",
    "    x, y = a[0], a[1]\n",
    "    pos = x*size + y\n",
    "    id[pos] = \"E\"\n",
    "  return id\n",
    "\n",
    "def getGraphWeighted(G):\n",
    "  adjlListWeighted = [[] for i in range(len(G))]\n",
    "  for i in range(len(G)):\n",
    "    for j in range(len(G[i])):\n",
    "      adjlListWeighted[i].append(   ( G[i][j], round( math.sqrt( (( (i // (len(G)/2) ) - (G[i][j] //  (len(G)/2) ) )**2) + (( (i %  (len(G)/2) ) - (G[i][j] %  (len(G)/2) ) )**2)   )          )  )    )\n",
    "  return adjlListWeighted"
   ]
  },
  {
   "cell_type": "code",
   "execution_count": 11,
   "metadata": {},
   "outputs": [],
   "source": [
    "import heapq as hq\n",
    "import math\n",
    "\n",
    "def prim(G, s):\n",
    "  n = len(G)\n",
    "  visited = [False]*n\n",
    "  path = [None]*n\n",
    "  cost = [math.inf]*n\n",
    "  q = [(0, s)]\n",
    "  while q:\n",
    "    _, u = hq.heappop(q)\n",
    "    if not visited[u]:\n",
    "      visited[u] = True\n",
    "      for v, w in G[u]:\n",
    "        if not visited[v] and w < cost[v]:\n",
    "          cost[v] = w\n",
    "          path[v] = u\n",
    "          hq.heappush(q, (w, v))\n",
    "\n",
    "  return path, cost"
   ]
  },
  {
   "cell_type": "code",
   "execution_count": 18,
   "metadata": {},
   "outputs": [
    {
     "name": "stdout",
     "output_type": "stream",
     "text": [
      "[1, None, 1, 2, 0, 4, 5, 6, 4, 8, 9, 10, 8, 12, 13, 14]\n",
      "[1, inf, 1, 1, 4, 1, 1, 1, 4, 1, 1, 1, 4, 1, 1, 1]\n"
     ]
    }
   ],
   "source": [
    "alm = [[0,1],[1,2],[0,0]]\n",
    "ent = [[1,0],[1,1]]\n",
    "\n",
    "size = 4\n",
    "\n",
    "Gp = setEmptyGraph(size)\n",
    "\n",
    "labels = setKnownPoints(size, alm, ent)\n",
    "\n",
    "GWp = getGraphWeighted(Gp)\n",
    "\n",
    "path, cost = prim(GWp, 1)\n",
    "print(path)\n",
    "print(cost)"
   ]
  }
 ],
 "metadata": {
  "interpreter": {
   "hash": "9a40a8c90788aa8c67c772331b221cc283f52ae33dfea325d8c15eb865b2b2f3"
  },
  "kernelspec": {
   "display_name": "Python 3.10.0 64-bit",
   "language": "python",
   "name": "python3"
  },
  "language_info": {
   "codemirror_mode": {
    "name": "ipython",
    "version": 3
   },
   "file_extension": ".py",
   "mimetype": "text/x-python",
   "name": "python",
   "nbconvert_exporter": "python",
   "pygments_lexer": "ipython3",
   "version": "3.10.0"
  },
  "orig_nbformat": 4
 },
 "nbformat": 4,
 "nbformat_minor": 2
}
