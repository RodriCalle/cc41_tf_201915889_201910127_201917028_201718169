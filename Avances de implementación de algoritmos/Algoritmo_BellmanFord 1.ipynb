{
  "nbformat": 4,
  "nbformat_minor": 0,
  "metadata": {
    "colab": {
      "name": "Algoritmo_BellmanFord.ipynb",
      "provenance": [],
      "authorship_tag": "ABX9TyPn3eDQUypK7xc1QDdmRcyv",
      "include_colab_link": true
    },
    "kernelspec": {
      "name": "python3",
      "display_name": "Python 3"
    },
    "language_info": {
      "name": "python"
    }
  },
  "cells": [
    {
      "cell_type": "markdown",
      "metadata": {
        "id": "view-in-github",
        "colab_type": "text"
      },
      "source": [
        "<a href=\"https://colab.research.google.com/github/RodriCalle/cc41_tf_201915889_201910127_201917028_201718169_20141a449/blob/master/Avances%20de%20implementaci%C3%B3n%20de%20algoritmos/Algoritmo_BellmanFord%201.ipynb\" target=\"_parent\"><img src=\"https://colab.research.google.com/assets/colab-badge.svg\" alt=\"Open In Colab\"/></a>"
      ]
    },
    {
      "cell_type": "code",
      "metadata": {
        "id": "01vA9Isl_PK3"
      },
      "source": [
        "def bellmanFord(G, s):\n",
        "  n = len(G)\n",
        "\n",
        "  #initialize\n",
        "  cost = [float('inf')]*n\n",
        "  cost[s]=0\n",
        "  path = [-1]*n\n",
        "\n",
        "  #relax\n",
        "  for _ in range(n-1):\n",
        "    for u in range(n):\n",
        "      for v, w in G[u]:\n",
        "        if cost[u] + w < cost[v]:\n",
        "          cost[v] = cost[u]+w\n",
        "          path[v]=u\n",
        "  \n",
        "  #check negative cygroupse\n",
        "  for u in range(n):\n",
        "    for v, w in G[u]:\n",
        "      if cost[u]+w<cost[v]:\n",
        "        return None, None\n",
        "\n",
        "  return path, cost"
      ],
      "execution_count": 1,
      "outputs": []
    }
  ]
}