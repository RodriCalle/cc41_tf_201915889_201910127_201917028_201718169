{
  "nbformat": 4,
  "nbformat_minor": 0,
  "metadata": {
    "colab": {
      "name": "Algoritmo_BellmanFord.ipynb",
      "provenance": [],
      "authorship_tag": "ABX9TyM9VwPZCe3rlAwMpK2lXyBz",
      "include_colab_link": true
    },
    "kernelspec": {
      "name": "python3",
      "display_name": "Python 3"
    },
    "language_info": {
      "name": "python"
    }
  },
  "cells": [
    {
      "cell_type": "markdown",
      "metadata": {
        "id": "view-in-github",
        "colab_type": "text"
      },
      "source": [
        "<a href=\"https://colab.research.google.com/github/RodriCalle/cc41_tf_201915889_201910127_201917028_201718169_20141a449/blob/master/Avances%20de%20implementaci%C3%B3n%20de%20algoritmos/%20Algoritmo_BellmanFord%202.ipynb\" target=\"_parent\"><img src=\"https://colab.research.google.com/assets/colab-badge.svg\" alt=\"Open In Colab\"/></a>"
      ]
    },
    {
      "cell_type": "code",
      "metadata": {
        "id": "01vA9Isl_PK3"
      },
      "source": [
        "def fellmanBord(cluster, origin):\n",
        "  cluster.insert(0,origin)\n",
        "  n = len(cluster)\n",
        "  cost = [float('inf')]*n\n",
        "  cost[0]=0\n",
        "  path = [-1]*n\n",
        "\n",
        "  for _ in range(n-1):\n",
        "    for node in range(n):\n",
        "      for eachother in range(n):\n",
        "        if eachother == node: continue\n",
        "        if cost[node] + manhattan(cluster[eachother], cluster[node]) < cost[eachother]:\n",
        "          cost[eachother] = cost[node] + manhattan(cluster[eachother], cluster[node])\n",
        "          path[eachother]=cluster[node]\n",
        "  \n",
        "  for node in range(n):\n",
        "    for eachother in range(n):\n",
        "      if cost[eachother]+manhattan(cluster[eachother], cluster[node]) < cost[eachother]:\n",
        "        return None\n",
        "\n",
        "  return path"
      ],
      "execution_count": 2,
      "outputs": []
    }
  ]
}