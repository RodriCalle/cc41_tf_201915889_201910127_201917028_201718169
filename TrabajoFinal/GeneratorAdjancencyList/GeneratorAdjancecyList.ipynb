{
 "cells": [
  {
   "cell_type": "code",
   "execution_count": 2,
   "metadata": {},
   "outputs": [],
   "source": [
    "import random\n",
    "import csv"
   ]
  },
  {
   "cell_type": "markdown",
   "metadata": {},
   "source": [
    "# Generador de lista de ayacencia\n",
    "\n",
    "Una vez analizado el planteamiento del problema y nuestro espacio de busqueda, consideramos que se necesita un grafo de 1 000 * 1 000, lo cual resulta en un grafo de 1 000 000 de nodos, y sus vertices son hacia sus vecinos.\n",
    "\n",
    "1. Primero establecemos una lista de adyacencia vacia es decir con todos los nodos y con las aristas de cada nodo.\n",
    "2. Luego con la función setKnownPoints y los arreglos de almacen y entrega se crea un arreglo de etiquetas que permiten diferenciar los nodos del grafo.\n",
    "3. Por último con la función getGrapphWeighted, obtendremos el grafo con los pesos de cada arista.\n",
    "\n",
    "Funciones usadas:\n",
    "- Convertir punto (x,y) a posición de nodo\n",
    "```\n",
    "pos = x * size + y\n",
    "```\n",
    "- Convertir posición de nodo a punto (x,y)\n",
    "```\n",
    "x = pos // size\n",
    "y = pos % size\n",
    "```\n"
   ]
  },
  {
   "cell_type": "code",
   "execution_count": 3,
   "metadata": {},
   "outputs": [],
   "source": [
    "def setEmptyGraph(size):\n",
    "  n = size*size\n",
    "  G = [ [] for _ in range(n) ]\n",
    "  for x in range(size):\n",
    "    for y in range(size):\n",
    "      if(size > x + 1):\n",
    "        G[ ((x * size) + y) ].append(((x+1) * size) + y)\n",
    "      if(0 <= x - 1):\n",
    "        G[ ((x * size) + y) ].append(((x-1) * size) + y)\n",
    "      if(size > y + 1):\n",
    "        G[ ((x * size) + y) ].append((x * size) + (y+1))\n",
    "      if(0 <= y - 1):\n",
    "        G[ ((x * size) + y) ].append((x * size) + (y-1))\n",
    "  return G\n",
    "\n",
    "def setKnownPoints(size, almacen, entrega):\n",
    "  id = [\"empty\"]*(size*size)\n",
    "  for a in almacen:\n",
    "    x, y = a[0], a[1]\n",
    "    pos = x*size + y\n",
    "    id[pos] = \"A\"\n",
    "  for a in entrega:\n",
    "    x, y = a[0], a[1]\n",
    "    pos = x*size + y\n",
    "    id[pos] = \"E\"\n",
    "  return id"
   ]
  },
  {
   "cell_type": "code",
   "execution_count": 4,
   "metadata": {},
   "outputs": [],
   "source": [
    "G = setEmptyGraph(1000)\n",
    "\n",
    "graphFile = open('adjancencyList.txt', 'w', newline='')\n",
    "with graphFile:\n",
    "  writer = csv.writer(graphFile)\n",
    "  writer.writerows(G)"
   ]
  }
 ],
 "metadata": {
  "interpreter": {
   "hash": "9a40a8c90788aa8c67c772331b221cc283f52ae33dfea325d8c15eb865b2b2f3"
  },
  "kernelspec": {
   "display_name": "Python 3.10.0 64-bit",
   "language": "python",
   "name": "python3"
  },
  "language_info": {
   "codemirror_mode": {
    "name": "ipython",
    "version": 3
   },
   "file_extension": ".py",
   "mimetype": "text/x-python",
   "name": "python",
   "nbconvert_exporter": "python",
   "pygments_lexer": "ipython3",
   "version": "3.10.0"
  },
  "orig_nbformat": 4
 },
 "nbformat": 4,
 "nbformat_minor": 2
}
