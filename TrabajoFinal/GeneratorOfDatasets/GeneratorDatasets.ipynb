{
 "cells": [
  {
   "cell_type": "code",
   "execution_count": 8,
   "metadata": {},
   "outputs": [],
   "source": [
    "import random\n",
    "import numpy as np\n",
    "import csv"
   ]
  },
  {
   "cell_type": "markdown",
   "metadata": {},
   "source": [
    "# Generador de datasets\n",
    "\n",
    "Algoritmo mediante el cual se generan de manera aleatoria los arreglos de los puntos de almacen y los puntos de entrega.\n",
    "\n",
    "1. Primero se genera la cantidad de almacenes entre 50 y 100, y la cantidad de entregas entre 2500 y 5000.\n",
    "2. Luego creamos los arreglos de almacenes y entregas vacíos.\n",
    "3. Posteriormente se genera dos arreglos \"x\" e \"y\" para almacen y otros dos para entrega, el rango de valor que puede tomar el \"x\" o \"y\" esta entre 1 y 1000\n",
    "4. Para finalizar se recorre los arreglos principales (almacenes y entregas) y se añaden los pares ordenados."
   ]
  },
  {
   "cell_type": "code",
   "execution_count": 9,
   "metadata": {},
   "outputs": [
    {
     "name": "stdout",
     "output_type": "stream",
     "text": [
      "Cantidad de almacenes:  87\n",
      "Cantidad de puntos de entrega:  4633\n"
     ]
    }
   ],
   "source": [
    "qAlm = random.randint(50,100)\n",
    "qEnt = random.randint(2500,5000)\n",
    "\n",
    "almacenes, entregas = [], []\n",
    "\n",
    "almacenx = np.random.randint(1,1000, size=qAlm)\n",
    "almaceny = np.random.randint(1,1000, size=qAlm)\n",
    "\n",
    "entregax = np.random.randint(1,1000, size=qEnt)\n",
    "entregay = np.random.randint(1,1000, size=qEnt)\n",
    "\n",
    "for i in range(qAlm):\n",
    "  almacenes.append( [almacenx[i], almaceny[i]] )\n",
    "for i in range(qEnt):\n",
    "  entregas.append( [entregax[i], entregay[i]] )\n",
    "\n",
    "print(\"Cantidad de almacenes: \", qAlm)\n",
    "#print(almacenes)\n",
    "print(\"Cantidad de puntos de entrega: \", qEnt)\n",
    "#print(entregas)"
   ]
  },
  {
   "cell_type": "code",
   "execution_count": 10,
   "metadata": {},
   "outputs": [],
   "source": [
    "almacenesFile = open('puntos_almacenes.csv', 'w', newline='')\n",
    "with almacenesFile:\n",
    "  writer = csv.writer(almacenesFile)\n",
    "  writer.writerows(almacenes)\n",
    "\n",
    "entregasFile = open('puntos_entrega.csv', 'w', newline='')\n",
    "with entregasFile:\n",
    "  writer = csv.writer(entregasFile)\n",
    "  writer.writerows(entregas)"
   ]
  }
 ],
 "metadata": {
  "interpreter": {
   "hash": "9a40a8c90788aa8c67c772331b221cc283f52ae33dfea325d8c15eb865b2b2f3"
  },
  "kernelspec": {
   "display_name": "Python 3.10.0 64-bit",
   "language": "python",
   "name": "python3"
  },
  "language_info": {
   "codemirror_mode": {
    "name": "ipython",
    "version": 3
   },
   "file_extension": ".py",
   "mimetype": "text/x-python",
   "name": "python",
   "nbconvert_exporter": "python",
   "pygments_lexer": "ipython3",
   "version": "3.10.0"
  },
  "orig_nbformat": 4
 },
 "nbformat": 4,
 "nbformat_minor": 2
}
